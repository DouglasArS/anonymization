{
 "cells": [
  {
   "cell_type": "markdown",
   "metadata": {},
   "source": [
    "###### https://matrixcalc.org/en/vectors.html#eigenvectors(%7B%7B1295%2e2,280%2e5,562%2e4%7D,%7B280%2e5,112,83%2e5%7D,%7B562%2e4,83%2e5,290%2e8%7D%7D)\n",
    "\n",
    "###### https://calculator.academy/normalize-vector-calculator/#f1p1|f2p0"
   ]
  },
  {
   "cell_type": "code",
   "execution_count": 76,
   "metadata": {},
   "outputs": [],
   "source": [
    "import time\n",
    "from datetime import timedelta\n",
    "import numpy as np\n",
    "import pandas as pd\n",
    "import sklearn.decomposition\n",
    "import scipy.linalg as la"
   ]
  },
  {
   "cell_type": "markdown",
   "metadata": {},
   "source": [
    "Read dataset"
   ]
  },
  {
   "cell_type": "code",
   "execution_count": 77,
   "metadata": {},
   "outputs": [
    {
     "name": "stdout",
     "output_type": "stream",
     "text": [
      "    A   B   C  Label\n",
      "0  71  29  33      1\n",
      "1  75  19  43      1\n",
      "2   7   9   3      1\n",
      "3  13  21   7      0\n",
      "4   3   2  17      1\n"
     ]
    }
   ],
   "source": [
    "# dataset = pd.read_csv('df_original_100000.csv')\n",
    "dataset = pd.DataFrame([[71, 29, 33, 1], [75, 19, 43, 1], [7, 9, 3, 1], [13, 21, 7, 0], [3, 2, 17, 1]])\n",
    "dataset.columns = ['A', 'B', 'C', 'Label']\n",
    "print(dataset)"
   ]
  },
  {
   "cell_type": "markdown",
   "metadata": {},
   "source": [
    "Erase label column"
   ]
  },
  {
   "cell_type": "code",
   "execution_count": 78,
   "metadata": {},
   "outputs": [
    {
     "name": "stdout",
     "output_type": "stream",
     "text": [
      "Dataset [[71 29 33]\n",
      " [75 19 43]\n",
      " [ 7  9  3]\n",
      " [13 21  7]\n",
      " [ 3  2 17]]\n"
     ]
    }
   ],
   "source": [
    "y = np.array(dataset['Label'])\n",
    "del dataset['Label']\n",
    "\n",
    "X = np.array(dataset)\n",
    "\n",
    "print('Dataset', X)"
   ]
  },
  {
   "cell_type": "code",
   "execution_count": 79,
   "metadata": {},
   "outputs": [
    {
     "name": "stdout",
     "output_type": "stream",
     "text": [
      "[[ 40.80227232  -6.4478562   -0.44690464]\n",
      " [ 46.4508894    7.06558354   0.76967717]\n",
      " [-32.38220261  -2.65694898   4.61882848]\n",
      " [-23.11542429  -9.99949491  -2.87876039]\n",
      " [-31.75553483  12.03871656  -2.06284062]]\n"
     ]
    }
   ],
   "source": [
    "pca = sklearn.decomposition.PCA()\n",
    "X_transformed = pca.fit_transform(X)\n",
    "print(X_transformed)"
   ]
  },
  {
   "cell_type": "markdown",
   "metadata": {},
   "source": [
    "Calculate the covariance matrix"
   ]
  },
  {
   "cell_type": "code",
   "execution_count": 80,
   "metadata": {},
   "outputs": [
    {
     "name": "stdout",
     "output_type": "stream",
     "text": [
      "Covariance Matrix:\n",
      " [[1295.2  280.5  562.4]\n",
      " [ 280.5  112.    83.5]\n",
      " [ 562.4   83.5  290.8]]\n",
      "Cetered Data:\n",
      " [[ 37.2  13.   12.4]\n",
      " [ 41.2   3.   22.4]\n",
      " [-26.8  -7.  -17.6]\n",
      " [-20.8   5.  -13.6]\n",
      " [-30.8 -14.   -3.6]]\n"
     ]
    }
   ],
   "source": [
    "X_centered = X - np.mean(X, axis=0)\n",
    "cov_matrix = np.cov(X_centered, rowvar=False)\n",
    "print('Covariance Matrix:\\n', cov_matrix)\n",
    "print('Cetered Data:\\n', X_centered)"
   ]
  },
  {
   "cell_type": "markdown",
   "metadata": {},
   "source": [
    "Calculate the eigenvalues and eigenvectors of the covariance matrix"
   ]
  },
  {
   "cell_type": "code",
   "execution_count": 81,
   "metadata": {},
   "outputs": [
    {
     "name": "stdout",
     "output_type": "stream",
     "text": [
      "Variance Retained:\n",
      " [0.94432486+0.j 0.99489572+0.j 1.        +0.j]\n",
      "Eigenvalues:\n",
      " [1603.4636077 +0.j   85.86932329+0.j    8.66706901+0.j]\n",
      "Eignvectors:\n",
      " [[ 0.89779641 -0.11748943  0.42445004]\n",
      " [ 0.1910642  -0.76443552 -0.61573761]\n",
      " [ 0.39680735  0.63390423 -0.66385944]]\n"
     ]
    }
   ],
   "source": [
    "evals, evecs = la.eig(cov_matrix)\n",
    "\n",
    "# sort them\n",
    "idx = np.argsort(evals)[::-1]\n",
    "\n",
    "#each columns of this matrix is an eingvector\n",
    "evecs = evecs[:,idx]\n",
    "evals = evals[idx]\n",
    "\n",
    "variance_retained=np.cumsum(evals)/np.sum(evals)\n",
    "\n",
    "print('Variance Retained:\\n', variance_retained)\n",
    "print('Eigenvalues:\\n', evals)\n",
    "print('Eignvectors:\\n', evecs)"
   ]
  },
  {
   "cell_type": "markdown",
   "metadata": {},
   "source": [
    "Dimensionality Reduction"
   ]
  },
  {
   "cell_type": "code",
   "execution_count": 82,
   "metadata": {},
   "outputs": [
    {
     "name": "stdout",
     "output_type": "stream",
     "text": [
      "Transformed Data:\n",
      " [[ 40.80227232  -6.4478562   -0.44690464]\n",
      " [ 46.4508894    7.06558354   0.76967717]\n",
      " [-32.38220261  -2.65694898   4.61882848]\n",
      " [-23.11542429  -9.99949491  -2.87876039]\n",
      " [-31.75553483  12.03871656  -2.06284062]]\n"
     ]
    }
   ],
   "source": [
    "X_transformed=np.dot(evecs.T, X_centered.T).T\n",
    "print('Transformed Data:\\n', X_transformed)"
   ]
  },
  {
   "cell_type": "markdown",
   "metadata": {},
   "source": [
    "Generate random eignvectors with the same mean and standard deviation values"
   ]
  },
  {
   "cell_type": "code",
   "execution_count": 143,
   "metadata": {},
   "outputs": [
    {
     "name": "stdout",
     "output_type": "stream",
     "text": [
      "[0.58035101 0.42233305 0.55184285]\n",
      "[ 0.31608178  0.20657425 -0.17651367]\n",
      "[-1.25837269 -0.75393667 -1.1197669 ]\n",
      "Generated Eignvectors:\n",
      " [[ 0.58035101  0.31608178 -1.25837269]\n",
      " [ 0.42233305  0.20657425 -0.75393667]\n",
      " [ 0.55184285 -0.17651367 -1.1197669 ]]\n"
     ]
    }
   ],
   "source": [
    "new_evecs = []\n",
    "\n",
    "for j in range(len(evecs[0])):\n",
    "    v = np.array(evecs[ : , j:j+1 ])\n",
    "    u = np.random.normal(loc=v.mean(axis=0), scale=v.std(axis=0), size=len(v))\n",
    "    new_evecs.append(u)\n",
    "    print(u)\n",
    "new_evecs = np.array(new_evecs).T\n",
    "\n",
    "print('Generated Eignvectors:\\n', new_evecs)"
   ]
  },
  {
   "cell_type": "markdown",
   "metadata": {},
   "source": [
    "Go Back to the Original Dimension"
   ]
  },
  {
   "cell_type": "code",
   "execution_count": 112,
   "metadata": {},
   "outputs": [
    {
     "name": "stdout",
     "output_type": "stream",
     "text": [
      "[[48.12175239 21.87124564 13.81476906]\n",
      " [59.72291886 35.62896197 21.67012472]\n",
      " [16.37565709  7.26981769 17.40857472]\n",
      " [16.90741796 -0.72385265 17.5942345 ]\n",
      " [27.87225369 15.95382736 32.51229699]]\n"
     ]
    }
   ],
   "source": [
    "original_dimension = np.dot(X_transformed, new_evecs.T) \n",
    "original_dimension += np.mean(X, axis=0)\n",
    "print(original_dimension)\n"
   ]
  }
 ],
 "metadata": {
  "kernelspec": {
   "display_name": "Python 3.9.13 64-bit",
   "language": "python",
   "name": "python3"
  },
  "language_info": {
   "codemirror_mode": {
    "name": "ipython",
    "version": 3
   },
   "file_extension": ".py",
   "mimetype": "text/x-python",
   "name": "python",
   "nbconvert_exporter": "python",
   "pygments_lexer": "ipython3",
   "version": "3.9.13"
  },
  "orig_nbformat": 4,
  "vscode": {
   "interpreter": {
    "hash": "b0fa6594d8f4cbf19f97940f81e996739fb7646882a419484c72d19e05852a7e"
   }
  }
 },
 "nbformat": 4,
 "nbformat_minor": 2
}
